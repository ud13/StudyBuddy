{
  "cells": [
    {
      "cell_type": "markdown",
      "metadata": {
        "id": "47eTBHYNP4g1"
      },
      "source": [
        "# StudyBuddy Prototyping\n",
        "copied from Introduction to LangChain v0.1.0 and LCEL: LangChain Powered RAG\n"
      ]
    },
    {
      "cell_type": "markdown",
      "metadata": {
        "id": "aVHd6POM0JFN"
      },
      "source": [
        "#### TaInstalling Required Libraries\n"
      ]
    },
    {
      "cell_type": "code",
      "execution_count": 1,
      "metadata": {
        "colab": {
          "base_uri": "https://localhost:8080/"
        },
        "id": "nCC2AR-Q0m0x",
        "outputId": "fe623cdf-cc3d-4ddd-fc8e-9405c5be8c50"
      },
      "outputs": [],
      "source": [
        "!pip install -qU langchain langchain-core langchain-community langchain-openai"
      ]
    },
    {
      "cell_type": "markdown",
      "metadata": {
        "id": "S5ELHQjQ1PYs"
      },
      "source": [
        "Now we can get our Qdrant dependencies!"
      ]
    },
    {
      "cell_type": "code",
      "execution_count": 2,
      "metadata": {
        "colab": {
          "base_uri": "https://localhost:8080/"
        },
        "id": "76XeYI9P1OXO",
        "outputId": "6384050b-85e9-44b5-bc91-18608fe62cd0"
      },
      "outputs": [],
      "source": [
        "!pip install -qU qdrant-client"
      ]
    },
    {
      "cell_type": "markdown",
      "metadata": {
        "id": "Iesey9OGCKJx"
      },
      "source": [
        "Let's finally get `tiktoken` and `pymupdf` so we can leverage them later on!"
      ]
    },
    {
      "cell_type": "code",
      "execution_count": 3,
      "metadata": {
        "colab": {
          "base_uri": "https://localhost:8080/"
        },
        "id": "K5qIUrFuENrS",
        "outputId": "1e6e0c65-b0e6-4997-8dc0-8e1528c27b8f"
      },
      "outputs": [],
      "source": [
        "!pip install -qU tiktoken pymupdf"
      ]
    },
    {
      "cell_type": "markdown",
      "metadata": {
        "id": "sl6wTp9C5qbY"
      },
      "source": [
        "#### Set Environment \n",
        "\n",
        "We will read from .env\n",
        "and use config to control the constants"
      ]
    },
    {
      "cell_type": "code",
      "execution_count": 4,
      "metadata": {},
      "outputs": [
        {
          "data": {
            "text/plain": [
              "True"
            ]
          },
          "execution_count": 4,
          "metadata": {},
          "output_type": "execute_result"
        }
      ],
      "source": [
        "import os\n",
        "from dotenv import load_dotenv\n",
        "load_dotenv()\n",
        "\n",
        "# tbd make sure, the key has been loaded"
      ]
    },
    {
      "cell_type": "code",
      "execution_count": 5,
      "metadata": {},
      "outputs": [],
      "source": [
        "from studybuddy_utils.config import Config"
      ]
    },
    {
      "cell_type": "code",
      "execution_count": 6,
      "metadata": {},
      "outputs": [
        {
          "data": {
            "text/plain": [
              "'You are a legendary and mythical Wizard. You speak in riddles and make obscure and pun-filled references to exotic cheeses.'"
            ]
          },
          "execution_count": 6,
          "metadata": {},
          "output_type": "execute_result"
        }
      ],
      "source": [
        "from studybuddy_utils.prompts import *\n",
        "ThirdPrompts.CONTEXT\n",
        "SecondPrompts.human_template\n",
        "FirstPrompts.system_template"
      ]
    },
    {
      "cell_type": "markdown",
      "metadata": {
        "id": "Q_xp54wIA56_"
      },
      "source": [
        "#### Initialize a Simple Chain using LCEL\n"
      ]
    },
    {
      "cell_type": "markdown",
      "metadata": {
        "id": "SyGdhbS6SkD1"
      },
      "source": [
        "Create an object that lets us access one of OpenAI's model - due to config.py"
      ]
    },
    {
      "cell_type": "code",
      "execution_count": 7,
      "metadata": {
        "id": "3Uj6SorxMj8e"
      },
      "outputs": [],
      "source": [
        "from langchain_openai import ChatOpenAI\n",
        "\n",
        "openai_chat_model = ChatOpenAI(model=Config.chat_model)"
      ]
    },
    {
      "cell_type": "markdown",
      "metadata": {
        "id": "dcMKLZWBVYm7"
      },
      "source": [
        "Now, we'll set up a prompt template - more specifically a `ChatPromptTemplate`. This will let us build a prompt we can modify when we call our LLM!\n",
        "See prompts.py for prompt-texts"
      ]
    },
    {
      "cell_type": "code",
      "execution_count": 8,
      "metadata": {
        "id": "Z770j4zPS3o5"
      },
      "outputs": [],
      "source": [
        "from langchain_core.prompts import ChatPromptTemplate\n",
        "from studybuddy_utils.prompts import *\n",
        "\n",
        "system_template = FirstPrompts.system_template\n",
        "human_template = FirstPrompts.human_template\n",
        "\n",
        "chat_prompt = ChatPromptTemplate.from_messages([\n",
        "    (\"system\", system_template),\n",
        "    (\"human\", human_template)\n",
        "])"
      ]
    },
    {
      "cell_type": "markdown",
      "metadata": {
        "id": "eGku_c2VVyd_"
      },
      "source": [
        "Now we can set up our first very simple chain!"
      ]
    },
    {
      "cell_type": "code",
      "execution_count": 9,
      "metadata": {
        "id": "RcJyqOiwVt04"
      },
      "outputs": [],
      "source": [
        "chain = chat_prompt | openai_chat_model"
      ]
    },
    {
      "cell_type": "markdown",
      "metadata": {
        "id": "QV_kHCjlL_01"
      },
      "source": [
        "Invoke the chain\n",
        "\n",
        "\n",
        "\n",
        "\n",
        "\n"
      ]
    },
    {
      "cell_type": "code",
      "execution_count": 10,
      "metadata": {
        "colab": {
          "base_uri": "https://localhost:8080/"
        },
        "id": "0cqr2QuMtIjn",
        "outputId": "8dd76a83-199a-44dc-8120-93210815908b"
      },
      "outputs": [
        {
          "name": "stdout",
          "output_type": "stream",
          "text": [
            "content='Greetings, wanderer of the digital realm, like a wheel of Roquefort rolling through the misty mountains of Gorgonzola. What queries do you seek to unravel in this vast expanse of virtual curiosities?' response_metadata={'token_usage': {'completion_tokens': 46, 'prompt_tokens': 38, 'total_tokens': 84}, 'model_name': 'gpt-3.5-turbo', 'system_fingerprint': 'fp_3b956da36b', 'finish_reason': 'stop', 'logprobs': None} id='run-d522e624-e0a8-440b-b176-b8e8c45e0202-0'\n"
          ]
        }
      ],
      "source": [
        "print(chain.invoke({\"content\": \"Hello world!\"}))"
      ]
    },
    {
      "cell_type": "markdown",
      "metadata": {
        "id": "63pr0fgYXxC3"
      },
      "source": [
        "Add some manual context\n",
        "\n",
        "However, let's see what happens when we rework our prompts - and we add the content from the docs to our prompt as context."
      ]
    },
    {
      "cell_type": "code",
      "execution_count": 11,
      "metadata": {
        "colab": {
          "base_uri": "https://localhost:8080/"
        },
        "id": "Fgr25HjgYHwh",
        "outputId": "c62107bf-9d01-43bc-8ec0-6499e422aec5"
      },
      "outputs": [
        {
          "name": "stdout",
          "output_type": "stream",
          "text": [
            "content='LangChain Expression Language (LCEL) is a declarative way to easily compose chains together. It provides benefits such as async, batch, and streaming support, fallback handling, parallelism, and seamless integration with LangSmith Tracing for observability and debuggability in LLM applications.' response_metadata={'token_usage': {'completion_tokens': 58, 'prompt_tokens': 285, 'total_tokens': 343}, 'model_name': 'gpt-3.5-turbo', 'system_fingerprint': 'fp_3b956da36b', 'finish_reason': 'stop', 'logprobs': None} id='run-b43bced2-4fb1-464a-891b-4153c2f1e6ed-0'\n"
          ]
        }
      ],
      "source": [
        "HUMAN_TEMPLATE = ThirdPrompts.HUMAN_TEMPLATE\n",
        "CONTEXT = ThirdPrompts.CONTEXT\n",
        "\n",
        "chat_prompt = ChatPromptTemplate.from_messages([\n",
        "    (\"human\", HUMAN_TEMPLATE)\n",
        "])\n",
        "\n",
        "chat_chain = chat_prompt | openai_chat_model\n",
        "\n",
        "print(chat_chain.invoke({\"query\" : \"What is LangChain Expression Language?\", \"context\" : CONTEXT}))"
      ]
    },
    {
      "cell_type": "markdown",
      "metadata": {
        "id": "ppQdtCedY7C4"
      },
      "source": [
        "You'll notice that the response is much better this time. Not only does it answer the question well - but there's no trace of confabulation (hallucination) at all!\n",
        "\n",
        "> NOTE: While RAG is an effective strategy to *help* ground LLMs, it is not nearly 100% effective. You will still need to ensure your responses are factual through some other processes\n",
        "\n",
        "That, in essence, is the idea of RAG. We provide the model with context to answer our queries - and rely on it to translate the potentially lengthy and difficult to parse context into a natural language answer!\n",
        "\n",
        "However, manually providing context is not scalable - and doesn't really offer any benefit.\n",
        "\n",
        "Enter: Retrieval Pipelines."
      ]
    },
    {
      "cell_type": "markdown",
      "metadata": {
        "id": "n4AozVoEZveK"
      },
      "source": [
        "#### Add retrieval\n"
      ]
    },
    {
      "cell_type": "code",
      "execution_count": 12,
      "metadata": {
        "id": "quNjOLWspOVN"
      },
      "outputs": [],
      "source": [
        "from langchain_openai.embeddings import OpenAIEmbeddings\n",
        "\n",
        "embedding_model = OpenAIEmbeddings(model=Config.embeddings_model_name)"
      ]
    },
    {
      "cell_type": "markdown",
      "metadata": {
        "id": "JU3Qpbs2pxj_"
      },
      "source": [
        "Let's grab some vectors and see how they're related!"
      ]
    },
    {
      "cell_type": "markdown",
      "metadata": {
        "id": "pBErqPRgxgZR"
      },
      "source": [
        "### Data Collection\n",
        "\n",
        "We'll be leveraging the `PyMUPDFLoader` to load our PDF directly from the web!"
      ]
    },
    {
      "cell_type": "code",
      "execution_count": 13,
      "metadata": {
        "id": "-AHA9L3Jxo3r"
      },
      "outputs": [],
      "source": [
        "from langchain.document_loaders import PyMuPDFLoader\n",
        "\n",
        "docs = PyMuPDFLoader(\"https://www.deyeshigh.co.uk/downloads/literacy/world_book_day/the_hitchhiker_s_guide_to_the_galaxy.pdf\").load()"
      ]
    },
    {
      "cell_type": "markdown",
      "metadata": {
        "id": "uH7ZPVJLx6Cn"
      },
      "source": [
        "### Chunking Our Documents"
      ]
    },
    {
      "cell_type": "markdown",
      "metadata": {
        "id": "NsSCRQUSyBKT"
      },
      "source": [
        "Let's do the same process as we did before with our `RecursiveCharacterTextSplitter` - but this time we'll use ~200 tokens as our max chunk size!"
      ]
    },
    {
      "cell_type": "code",
      "execution_count": 14,
      "metadata": {
        "id": "SzolG1FLx2f_"
      },
      "outputs": [],
      "source": [
        "from langchain.text_splitter import RecursiveCharacterTextSplitter\n",
        "import tiktoken\n",
        "\n",
        "# tbd herausfinden, wozu das gut ist\n",
        "def tiktoken_len(text):\n",
        "    tokens = tiktoken.encoding_for_model(Config.chat_model).encode(\n",
        "        text,\n",
        "    )\n",
        "    return len(tokens)\n",
        "\n",
        "\n",
        "text_splitter = RecursiveCharacterTextSplitter(\n",
        "    chunk_size = 200,\n",
        "    chunk_overlap = 0,\n",
        "    length_function = tiktoken_len,\n",
        ")\n",
        "\n",
        "split_chunks = text_splitter.split_documents(docs)"
      ]
    },
    {
      "cell_type": "code",
      "execution_count": 15,
      "metadata": {
        "colab": {
          "base_uri": "https://localhost:8080/"
        },
        "id": "fpV4f1eXyXVJ",
        "outputId": "eec7df70-56d4-433a-a870-ad143c6f0a6d"
      },
      "outputs": [
        {
          "data": {
            "text/plain": [
              "517"
            ]
          },
          "execution_count": 15,
          "metadata": {},
          "output_type": "execute_result"
        }
      ],
      "source": [
        "len(split_chunks)"
      ]
    },
    {
      "cell_type": "markdown",
      "metadata": {
        "id": "YTJ60Ck6ybe_"
      },
      "source": [
        "Alright, now we have 516 ~200 token long documents.\n",
        "\n",
        "Let's verify the process worked as intended by checking our max document length."
      ]
    },
    {
      "cell_type": "code",
      "execution_count": 16,
      "metadata": {
        "colab": {
          "base_uri": "https://localhost:8080/"
        },
        "id": "950mB338yZR8",
        "outputId": "91f274c3-1117-43ad-f6af-03bf4974e776"
      },
      "outputs": [
        {
          "name": "stdout",
          "output_type": "stream",
          "text": [
            "189\n"
          ]
        }
      ],
      "source": [
        "max_chunk_length = 0\n",
        "\n",
        "for chunk in split_chunks:\n",
        "  max_chunk_length = max(max_chunk_length, tiktoken_len(chunk.page_content))\n",
        "\n",
        "print(max_chunk_length)"
      ]
    },
    {
      "cell_type": "markdown",
      "metadata": {
        "id": "TDt3RufQy1cP"
      },
      "source": [
        "Perfect! Now we can carry on to creating and storing our embeddings."
      ]
    },
    {
      "cell_type": "markdown",
      "metadata": {
        "id": "kocCe4zLy5qT"
      },
      "source": [
        "### Embeddings and Vector Storage\n",
        "\n",
        "We'll use the `text-embedding-3-small` embedding model again - and `Qdrant` to store all our embedding vectors for easy retrieval later!"
      ]
    },
    {
      "cell_type": "code",
      "execution_count": 17,
      "metadata": {
        "id": "7M0X1eVlWPFf"
      },
      "outputs": [],
      "source": [
        "from langchain_community.vectorstores import Qdrant\n",
        "# tbd - ausprobieren, ob die geladen werden https://python.langchain.com.cn/docs/modules/data_connection/vectorstores/integrations/qdrant\n",
        "\n",
        "qdrant_vectorstore = Qdrant.from_documents(\n",
        "    split_chunks,\n",
        "    embedding_model,\n",
        "    # location=\":memory:\",\n",
        "    path=\"local_qdrant\",\n",
        "    collection_name=\"Hitchiker's Guide\",\n",
        ")"
      ]
    },
    {
      "cell_type": "markdown",
      "metadata": {
        "id": "d-NDvjfzXhVp"
      },
      "source": [
        "Now let's set up our retriever, just as we saw before, but this time using LangChain's simple `as_retriever()` method!"
      ]
    },
    {
      "cell_type": "code",
      "execution_count": 18,
      "metadata": {
        "id": "Edjx19YBXavZ"
      },
      "outputs": [],
      "source": [
        "qdrant_retriever = qdrant_vectorstore.as_retriever()"
      ]
    },
    {
      "cell_type": "markdown",
      "metadata": {
        "id": "B1OM0DiYcOj-"
      },
      "source": [
        "#### Back to the Flow"
      ]
    },
    {
      "cell_type": "code",
      "execution_count": 19,
      "metadata": {
        "id": "TE5tick_YPJj"
      },
      "outputs": [],
      "source": [
        "RAG_PROMPT = \"\"\"\n",
        "CONTEXT:\n",
        "{context}\n",
        "\n",
        "QUERY:\n",
        "{question}\n",
        "\n",
        "Only use the context provided. If the context provided does not answer the question, then answer with 'I don't know the answer to that question based on the provided context.'. \n",
        "\"\"\"\n",
        "\n",
        "rag_prompt = ChatPromptTemplate.from_template(RAG_PROMPT)"
      ]
    },
    {
      "cell_type": "code",
      "execution_count": 20,
      "metadata": {
        "id": "VnGthXpzzo-R"
      },
      "outputs": [],
      "source": [
        "from operator import itemgetter\n",
        "from langchain.schema.output_parser import StrOutputParser\n",
        "from langchain.schema.runnable import RunnablePassthrough\n",
        "\n",
        "retrieval_augmented_qa_chain = (\n",
        "    # INVOKE CHAIN WITH: {\"question\" : \"<<SOME USER QUESTION>>\"}\n",
        "    # \"question\" : populated by getting the value of the \"question\" key\n",
        "    # \"context\"  : populated by getting the value of the \"question\" key and chaining it into the base_retriever\n",
        "    {\"context\": itemgetter(\"question\") | qdrant_retriever, \"question\": itemgetter(\"question\")}\n",
        "    # \"context\"  : is assigned to a RunnablePassthrough object (will not be called or considered in the next step)\n",
        "    #              by getting the value of the \"context\" key from the previous step\n",
        "    | RunnablePassthrough.assign(context=itemgetter(\"context\"))\n",
        "    # \"response\" : the \"context\" and \"question\" values are used to format our prompt object and then piped\n",
        "    #              into the LLM and stored in a key called \"response\"\n",
        "    # \"context\"  : populated by getting the value of the \"context\" key from the previous step\n",
        "    | {\"response\": rag_prompt | openai_chat_model, \"context\": itemgetter(\"context\")}\n",
        ")"
      ]
    },
    {
      "cell_type": "markdown",
      "metadata": {
        "id": "h0KAPrtFMtRd"
      },
      "source": [
        "Let's get a visual understanding of our chain!"
      ]
    },
    {
      "cell_type": "markdown",
      "metadata": {
        "id": "_0C5CFRHOxtB"
      },
      "source": [
        "Let's test our chain out!"
      ]
    },
    {
      "cell_type": "code",
      "execution_count": 21,
      "metadata": {
        "id": "JSDyVefDaue4"
      },
      "outputs": [],
      "source": [
        "# response = retrieval_augmented_qa_chain.invoke({\"question\" : \"What is the significance of towels in Douglas Adam's Hitchhicker's Guide?\"})\n",
        "response = retrieval_augmented_qa_chain.invoke({\"question\" : \"What is the meaning of the number 42 in Douglas Adam's Hitchhicker's Guide?\"})"
      ]
    },
    {
      "cell_type": "code",
      "execution_count": 22,
      "metadata": {
        "colab": {
          "base_uri": "https://localhost:8080/",
          "height": 70
        },
        "id": "yfEAoG3HLC3J",
        "outputId": "ecd0a464-c76b-4723-e807-a533ef6b1dc2"
      },
      "outputs": [
        {
          "data": {
            "text/plain": [
              "\"In Douglas Adams' Hitchhiker's Guide, the number 42 is referenced as the ultimate answer to the meaning of life, the universe, and everything.\""
            ]
          },
          "execution_count": 22,
          "metadata": {},
          "output_type": "execute_result"
        }
      ],
      "source": [
        "response[\"response\"].content"
      ]
    },
    {
      "cell_type": "code",
      "execution_count": 23,
      "metadata": {
        "colab": {
          "base_uri": "https://localhost:8080/"
        },
        "id": "FSZFdCM5LFoq",
        "outputId": "9a853f7c-65d8-4772-e54c-d3e6a2ccf526"
      },
      "outputs": [
        {
          "name": "stdout",
          "output_type": "stream",
          "text": [
            "Context:\n",
            "page_content=\"154  / D O U G L A S  A D A M S  \\nOn the surface of Magrathea Arthur wandered about moodily. \\nFord had thoughtfully left him his copy of The Hitch Hiker's \\nGuide to the Galaxy to while away the time with.  He pushed a \\nfew buttons at random. \\nThe Hitch Hiker's Guide to the Galaxy is a very unevenly edited \\nbook and contains many passages that simply seemed to its \\neditors like a good idea at the time. \\nOne of these (the one Arthur now came across) supposedly \\nrelates the experiences of one Veet Voojagig, a quiet young \\nstudent at the University of Maximegalon, who pursued a \\nbrilliant \\nacademic \\ncareer \\nstudying \\nancient \\nphilology, \\ntransformational ethics and the wave harmonic theory of\" metadata={'source': 'https://www.deyeshigh.co.uk/downloads/literacy/world_book_day/the_hitchhiker_s_guide_to_the_galaxy.pdf', 'file_path': 'https://www.deyeshigh.co.uk/downloads/literacy/world_book_day/the_hitchhiker_s_guide_to_the_galaxy.pdf', 'page': 153, 'total_pages': 227, 'format': 'PDF 1.3', 'title': \"Hitchhiker's Guide to the Galaxy\", 'author': 'Douglas Adams', 'subject': 'document version 1.0', 'keywords': 'hanomag <01name@iname.com>', 'creator': \"Hitchhiker's Guide to the Galaxy.doc (Preview) - Microsoft Word\", 'producer': 'Acrobat PDFWriter 4.0 for Windows NT', 'creationDate': 'D:20010213123949', 'modDate': \"D:20010213124359-08'00'\", 'trapped': '', 'encryption': 'Standard V1 R2 40-bit RC4', '_id': '0f0160b57f994ab7b9b56aa4fb914055', '_collection_name': \"Hitchiker's Guide\"}\n",
            "----\n",
            "Context:\n",
            "page_content='Everything, and then eventually have to admit that in fact it\\'s \\nForty-two, then the show\\'s probably quite short.  No follow-up, \\nyou see.\"' metadata={'source': 'https://www.deyeshigh.co.uk/downloads/literacy/world_book_day/the_hitchhiker_s_guide_to_the_galaxy.pdf', 'file_path': 'https://www.deyeshigh.co.uk/downloads/literacy/world_book_day/the_hitchhiker_s_guide_to_the_galaxy.pdf', 'page': 206, 'total_pages': 227, 'format': 'PDF 1.3', 'title': \"Hitchhiker's Guide to the Galaxy\", 'author': 'Douglas Adams', 'subject': 'document version 1.0', 'keywords': 'hanomag <01name@iname.com>', 'creator': \"Hitchhiker's Guide to the Galaxy.doc (Preview) - Microsoft Word\", 'producer': 'Acrobat PDFWriter 4.0 for Windows NT', 'creationDate': 'D:20010213123949', 'modDate': \"D:20010213124359-08'00'\", 'trapped': '', 'encryption': 'Standard V1 R2 40-bit RC4', '_id': '3538cf4326e14848a98475dfb247f396', '_collection_name': \"Hitchiker's Guide\"}\n",
            "----\n",
            "Context:\n",
            "page_content=\"28  /  D O U G L A S  A D A M S  \\nthis device was in fact that most remarkable of all books ever to \\ncome out of the great publishing corporations of Ursa Minor - \\nThe Hitch Hiker's Guide to the Galaxy.  The reason why it was \\npublished in the form of a micro sub meson electronic \\ncomponent is that if it were printed in normal book form, an \\ninterstellar hitch hiker would require several inconveniently \\nlarge buildings to carry it around in. \\nBeneath that in Ford Prefect's satchel were a few biros, a \\nnotepad, and a largish bath towel from Marks and Spencer. \\nThe Hitch Hiker's Guide to the Galaxy has a few things to say on \\nthe subject of towels. \\nA towel, it says, is about the most massively useful thing an\" metadata={'source': 'https://www.deyeshigh.co.uk/downloads/literacy/world_book_day/the_hitchhiker_s_guide_to_the_galaxy.pdf', 'file_path': 'https://www.deyeshigh.co.uk/downloads/literacy/world_book_day/the_hitchhiker_s_guide_to_the_galaxy.pdf', 'page': 27, 'total_pages': 227, 'format': 'PDF 1.3', 'title': \"Hitchhiker's Guide to the Galaxy\", 'author': 'Douglas Adams', 'subject': 'document version 1.0', 'keywords': 'hanomag <01name@iname.com>', 'creator': \"Hitchhiker's Guide to the Galaxy.doc (Preview) - Microsoft Word\", 'producer': 'Acrobat PDFWriter 4.0 for Windows NT', 'creationDate': 'D:20010213123949', 'modDate': \"D:20010213124359-08'00'\", 'trapped': '', 'encryption': 'Standard V1 R2 40-bit RC4', '_id': '75c7ba6095a04982af91fd6d572b65ae', '_collection_name': \"Hitchiker's Guide\"}\n",
            "----\n",
            "Context:\n",
            "page_content=\"28  /  D O U G L A S  A D A M S  \\nthis device was in fact that most remarkable of all books ever to \\ncome out of the great publishing corporations of Ursa Minor - \\nThe Hitch Hiker's Guide to the Galaxy.  The reason why it was \\npublished in the form of a micro sub meson electronic \\ncomponent is that if it were printed in normal book form, an \\ninterstellar hitch hiker would require several inconveniently \\nlarge buildings to carry it around in. \\nBeneath that in Ford Prefect's satchel were a few biros, a \\nnotepad, and a largish bath towel from Marks and Spencer. \\nThe Hitch Hiker's Guide to the Galaxy has a few things to say on \\nthe subject of towels. \\nA towel, it says, is about the most massively useful thing an\" metadata={'source': 'https://www.deyeshigh.co.uk/downloads/literacy/world_book_day/the_hitchhiker_s_guide_to_the_galaxy.pdf', 'file_path': 'https://www.deyeshigh.co.uk/downloads/literacy/world_book_day/the_hitchhiker_s_guide_to_the_galaxy.pdf', 'page': 27, 'total_pages': 227, 'format': 'PDF 1.3', 'title': \"Hitchhiker's Guide to the Galaxy\", 'author': 'Douglas Adams', 'subject': 'document version 1.0', 'keywords': 'hanomag <01name@iname.com>', 'creator': \"Hitchhiker's Guide to the Galaxy.doc (Preview) - Microsoft Word\", 'producer': 'Acrobat PDFWriter 4.0 for Windows NT', 'creationDate': 'D:20010213123949', 'modDate': \"D:20010213124359-08'00'\", 'trapped': '', 'encryption': 'Standard V1 R2 40-bit RC4', '_id': '87f2b9715e674a70a1a3b00fbf0758b3', '_collection_name': \"Hitchiker's Guide\"}\n",
            "----\n"
          ]
        }
      ],
      "source": [
        "for context in response[\"context\"]:\n",
        "  print(\"Context:\")\n",
        "  print(context)\n",
        "  print(\"----\")"
      ]
    }
  ],
  "metadata": {
    "accelerator": "GPU",
    "colab": {
      "gpuType": "T4",
      "machine_shape": "hm",
      "provenance": []
    },
    "kernelspec": {
      "display_name": "Python 3",
      "name": "python3"
    },
    "language_info": {
      "codemirror_mode": {
        "name": "ipython",
        "version": 3
      },
      "file_extension": ".py",
      "mimetype": "text/x-python",
      "name": "python",
      "nbconvert_exporter": "python",
      "pygments_lexer": "ipython3",
      "version": "3.11.8"
    }
  },
  "nbformat": 4,
  "nbformat_minor": 0
}
